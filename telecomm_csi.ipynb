{
 "cells": [
  {
   "cell_type": "markdown",
   "id": "8e74330e",
   "metadata": {},
   "source": [
    "# Исследование данных с результатами опроса, отражающего текущий уровень потребительской лояльности (NPS) клиентов телекоммуникационной компании.\n",
    "\n",
    "Заказчик - телекоммуникационная компания, которая оказывает услуги на территории всего СНГ.\n",
    "Перед компанией стоит задача определить текущий уровень потребительской лояльности - NPS среди клиентов из России.\n",
    "Чтобы определить уровень лояльности, клиентам задавали классический вопрос: «Оцените по шкале от 1 до 10 вероятность того, что вы порекомендуете компанию друзьям и знакомым».\n",
    "Компания провела опрос и потребовалось подготовить дашборд с его итогами.\n",
    "Большую базу данных для такой задачи разворачивать не стали и выгрузили данные в SQLite."
   ]
  },
  {
   "cell_type": "code",
   "execution_count": 1,
   "id": "7b241ca4",
   "metadata": {
    "tags": [
     "aa81075c-062f-4de0-b5fe-14c73dc7468e"
    ]
   },
   "outputs": [],
   "source": [
    "import pandas as pd\n",
    "from sqlalchemy import create_engine"
   ]
  },
  {
   "cell_type": "code",
   "execution_count": 2,
   "id": "8566a51b",
   "metadata": {},
   "outputs": [],
   "source": [
    "path_to_db = 'telecomm_csi.db' # путь к файлу\n",
    "engine = create_engine(f'sqlite:///{path_to_db}', echo = False)"
   ]
  },
  {
   "cell_type": "code",
   "execution_count": 3,
   "id": "d84e3030",
   "metadata": {},
   "outputs": [
    {
     "name": "stdout",
     "output_type": "stream",
     "text": [
      "Данные загружены\n"
     ]
    }
   ],
   "source": [
    "query = \"\"\"\n",
    "SELECT  u.user_id,\n",
    "        u.lt_day,\n",
    "        CASE\n",
    "            WHEN u.lt_day < 366 THEN 'True'\n",
    "            ELSE 'False'\n",
    "        END AS is_new,\n",
    "        u.age,\n",
    "        CASE\n",
    "            WHEN u.gender_segment == 1 THEN 'Female'\n",
    "            WHEN u.gender_segment == 0 THEN 'Male'\n",
    "        END AS gender_segment,\n",
    "        u.os_name,\n",
    "        u.cpe_type_name,\n",
    "        l.country,\n",
    "        l.city,\n",
    "        TRIM(SUBSTR(a_s.title, 3)) AS age_segment,\n",
    "        TRIM(SUBSTR(t_s.title, 3)) AS traffic_segment,\n",
    "        TRIM(SUBSTR(l_s.title, 3)) AS lifetime_segment,\n",
    "        u.nps_score,\n",
    "        CASE\n",
    "            WHEN u.nps_score < 7 THEN 'критики'\n",
    "            WHEN u.nps_score > 6 AND u.nps_score < 9 THEN 'нейтралы'\n",
    "            WHEN u.nps_score > 8 THEN 'сторонники'\n",
    "        END AS nps_group\n",
    "FROM user AS u\n",
    "LEFT JOIN location AS l ON u.location_id = l.location_id\n",
    "LEFT JOIN age_segment AS a_s ON u.age_gr_id = a_s.age_gr_id\n",
    "LEFT JOIN traffic_segment AS t_s ON u.tr_gr_id = t_s.tr_gr_id\n",
    "LEFT JOIN lifetime_segment AS l_s ON u.lt_gr_id = l_s.lt_gr_id;\n",
    "\"\"\"\n",
    "try:\n",
    "    df = pd.read_sql(query, engine)\n",
    "    print('Данные загружены')\n",
    "except:\n",
    "    print('Не удалось загрузить данные')"
   ]
  },
  {
   "cell_type": "code",
   "execution_count": 4,
   "id": "123367fe",
   "metadata": {},
   "outputs": [
    {
     "data": {
      "text/html": [
       "<div>\n",
       "<style scoped>\n",
       "    .dataframe tbody tr th:only-of-type {\n",
       "        vertical-align: middle;\n",
       "    }\n",
       "\n",
       "    .dataframe tbody tr th {\n",
       "        vertical-align: top;\n",
       "    }\n",
       "\n",
       "    .dataframe thead th {\n",
       "        text-align: right;\n",
       "    }\n",
       "</style>\n",
       "<table border=\"1\" class=\"dataframe\">\n",
       "  <thead>\n",
       "    <tr style=\"text-align: right;\">\n",
       "      <th></th>\n",
       "      <th>user_id</th>\n",
       "      <th>lt_day</th>\n",
       "      <th>is_new</th>\n",
       "      <th>age</th>\n",
       "      <th>gender_segment</th>\n",
       "      <th>os_name</th>\n",
       "      <th>cpe_type_name</th>\n",
       "      <th>country</th>\n",
       "      <th>city</th>\n",
       "      <th>age_segment</th>\n",
       "      <th>traffic_segment</th>\n",
       "      <th>lifetime_segment</th>\n",
       "      <th>nps_score</th>\n",
       "      <th>nps_group</th>\n",
       "    </tr>\n",
       "  </thead>\n",
       "  <tbody>\n",
       "    <tr>\n",
       "      <th>290291</th>\n",
       "      <td>P0IDVC</td>\n",
       "      <td>567</td>\n",
       "      <td>False</td>\n",
       "      <td>44.0</td>\n",
       "      <td>Female</td>\n",
       "      <td>ANDROID</td>\n",
       "      <td>SMARTPHONE</td>\n",
       "      <td>Россия</td>\n",
       "      <td>СанктПетербург</td>\n",
       "      <td>35-44</td>\n",
       "      <td>75-80</td>\n",
       "      <td>13-24</td>\n",
       "      <td>10</td>\n",
       "      <td>сторонники</td>\n",
       "    </tr>\n",
       "    <tr>\n",
       "      <th>353399</th>\n",
       "      <td>SAA12X</td>\n",
       "      <td>97</td>\n",
       "      <td>True</td>\n",
       "      <td>42.0</td>\n",
       "      <td>Female</td>\n",
       "      <td>ANDROID</td>\n",
       "      <td>SMARTPHONE</td>\n",
       "      <td>Россия</td>\n",
       "      <td>Барнаул</td>\n",
       "      <td>35-44</td>\n",
       "      <td>35-40</td>\n",
       "      <td>4-6</td>\n",
       "      <td>10</td>\n",
       "      <td>сторонники</td>\n",
       "    </tr>\n",
       "    <tr>\n",
       "      <th>243269</th>\n",
       "      <td>MKW4LN</td>\n",
       "      <td>4738</td>\n",
       "      <td>False</td>\n",
       "      <td>33.0</td>\n",
       "      <td>Male</td>\n",
       "      <td>ANDROID</td>\n",
       "      <td>SMARTPHONE</td>\n",
       "      <td>Россия</td>\n",
       "      <td>Екатеринбург</td>\n",
       "      <td>25-34</td>\n",
       "      <td>80-85</td>\n",
       "      <td>36+</td>\n",
       "      <td>10</td>\n",
       "      <td>сторонники</td>\n",
       "    </tr>\n",
       "    <tr>\n",
       "      <th>436013</th>\n",
       "      <td>WK497P</td>\n",
       "      <td>521</td>\n",
       "      <td>False</td>\n",
       "      <td>26.0</td>\n",
       "      <td>Male</td>\n",
       "      <td>ANDROID</td>\n",
       "      <td>SMARTPHONE</td>\n",
       "      <td>Россия</td>\n",
       "      <td>Волгоград</td>\n",
       "      <td>25-34</td>\n",
       "      <td>10-15</td>\n",
       "      <td>13-24</td>\n",
       "      <td>9</td>\n",
       "      <td>сторонники</td>\n",
       "    </tr>\n",
       "    <tr>\n",
       "      <th>459526</th>\n",
       "      <td>XRWUBD</td>\n",
       "      <td>1519</td>\n",
       "      <td>False</td>\n",
       "      <td>32.0</td>\n",
       "      <td>Female</td>\n",
       "      <td>ANDROID</td>\n",
       "      <td>SMARTPHONE</td>\n",
       "      <td>Россия</td>\n",
       "      <td>Тольятти</td>\n",
       "      <td>25-34</td>\n",
       "      <td>100+</td>\n",
       "      <td>36+</td>\n",
       "      <td>10</td>\n",
       "      <td>сторонники</td>\n",
       "    </tr>\n",
       "    <tr>\n",
       "      <th>288783</th>\n",
       "      <td>OXRHUT</td>\n",
       "      <td>1047</td>\n",
       "      <td>False</td>\n",
       "      <td>23.0</td>\n",
       "      <td>Female</td>\n",
       "      <td>ANDROID</td>\n",
       "      <td>SMARTPHONE</td>\n",
       "      <td>Россия</td>\n",
       "      <td>Краснодар</td>\n",
       "      <td>16-24</td>\n",
       "      <td>5-10</td>\n",
       "      <td>25-36</td>\n",
       "      <td>8</td>\n",
       "      <td>нейтралы</td>\n",
       "    </tr>\n",
       "    <tr>\n",
       "      <th>279966</th>\n",
       "      <td>OHEJTC</td>\n",
       "      <td>4406</td>\n",
       "      <td>False</td>\n",
       "      <td>45.0</td>\n",
       "      <td>Female</td>\n",
       "      <td>ANDROID</td>\n",
       "      <td>SMARTPHONE</td>\n",
       "      <td>Россия</td>\n",
       "      <td>Хабаровск</td>\n",
       "      <td>45-54</td>\n",
       "      <td>10-15</td>\n",
       "      <td>36+</td>\n",
       "      <td>3</td>\n",
       "      <td>критики</td>\n",
       "    </tr>\n",
       "    <tr>\n",
       "      <th>37738</th>\n",
       "      <td>BY9FVM</td>\n",
       "      <td>477</td>\n",
       "      <td>False</td>\n",
       "      <td>50.0</td>\n",
       "      <td>Male</td>\n",
       "      <td>ANDROID</td>\n",
       "      <td>SMARTPHONE</td>\n",
       "      <td>Россия</td>\n",
       "      <td>Новокузнецк</td>\n",
       "      <td>45-54</td>\n",
       "      <td>1-5</td>\n",
       "      <td>13-24</td>\n",
       "      <td>8</td>\n",
       "      <td>нейтралы</td>\n",
       "    </tr>\n",
       "    <tr>\n",
       "      <th>187815</th>\n",
       "      <td>JPIAS9</td>\n",
       "      <td>4413</td>\n",
       "      <td>False</td>\n",
       "      <td>52.0</td>\n",
       "      <td>Female</td>\n",
       "      <td>ANDROID</td>\n",
       "      <td>SMARTPHONE</td>\n",
       "      <td>Россия</td>\n",
       "      <td>НижнийТагил</td>\n",
       "      <td>45-54</td>\n",
       "      <td>20-25</td>\n",
       "      <td>36+</td>\n",
       "      <td>10</td>\n",
       "      <td>сторонники</td>\n",
       "    </tr>\n",
       "    <tr>\n",
       "      <th>36689</th>\n",
       "      <td>BWAIHK</td>\n",
       "      <td>1743</td>\n",
       "      <td>False</td>\n",
       "      <td>32.0</td>\n",
       "      <td>Female</td>\n",
       "      <td>ANDROID</td>\n",
       "      <td>SMARTPHONE</td>\n",
       "      <td>Россия</td>\n",
       "      <td>Сочи</td>\n",
       "      <td>25-34</td>\n",
       "      <td>15-20</td>\n",
       "      <td>36+</td>\n",
       "      <td>5</td>\n",
       "      <td>критики</td>\n",
       "    </tr>\n",
       "  </tbody>\n",
       "</table>\n",
       "</div>"
      ],
      "text/plain": [
       "       user_id  lt_day is_new   age gender_segment  os_name cpe_type_name  \\\n",
       "290291  P0IDVC     567  False  44.0         Female  ANDROID    SMARTPHONE   \n",
       "353399  SAA12X      97   True  42.0         Female  ANDROID    SMARTPHONE   \n",
       "243269  MKW4LN    4738  False  33.0           Male  ANDROID    SMARTPHONE   \n",
       "436013  WK497P     521  False  26.0           Male  ANDROID    SMARTPHONE   \n",
       "459526  XRWUBD    1519  False  32.0         Female  ANDROID    SMARTPHONE   \n",
       "288783  OXRHUT    1047  False  23.0         Female  ANDROID    SMARTPHONE   \n",
       "279966  OHEJTC    4406  False  45.0         Female  ANDROID    SMARTPHONE   \n",
       "37738   BY9FVM     477  False  50.0           Male  ANDROID    SMARTPHONE   \n",
       "187815  JPIAS9    4413  False  52.0         Female  ANDROID    SMARTPHONE   \n",
       "36689   BWAIHK    1743  False  32.0         Female  ANDROID    SMARTPHONE   \n",
       "\n",
       "       country            city age_segment traffic_segment lifetime_segment  \\\n",
       "290291  Россия  СанктПетербург       35-44           75-80            13-24   \n",
       "353399  Россия         Барнаул       35-44           35-40              4-6   \n",
       "243269  Россия    Екатеринбург       25-34           80-85              36+   \n",
       "436013  Россия       Волгоград       25-34           10-15            13-24   \n",
       "459526  Россия        Тольятти       25-34            100+              36+   \n",
       "288783  Россия       Краснодар       16-24            5-10            25-36   \n",
       "279966  Россия       Хабаровск       45-54           10-15              36+   \n",
       "37738   Россия     Новокузнецк       45-54             1-5            13-24   \n",
       "187815  Россия     НижнийТагил       45-54           20-25              36+   \n",
       "36689   Россия            Сочи       25-34           15-20              36+   \n",
       "\n",
       "        nps_score   nps_group  \n",
       "290291         10  сторонники  \n",
       "353399         10  сторонники  \n",
       "243269         10  сторонники  \n",
       "436013          9  сторонники  \n",
       "459526         10  сторонники  \n",
       "288783          8    нейтралы  \n",
       "279966          3     критики  \n",
       "37738           8    нейтралы  \n",
       "187815         10  сторонники  \n",
       "36689           5     критики  "
      ]
     },
     "execution_count": 4,
     "metadata": {},
     "output_type": "execute_result"
    }
   ],
   "source": [
    "df.sample(10)"
   ]
  },
  {
   "cell_type": "code",
   "execution_count": 5,
   "id": "4d4cd466",
   "metadata": {},
   "outputs": [
    {
     "name": "stdout",
     "output_type": "stream",
     "text": [
      "Данные выгружены в файл telecomm_csi_tableau.csv\n"
     ]
    }
   ],
   "source": [
    "try:\n",
    "    df.to_csv('telecomm_csi_tableau.csv', index=False)\n",
    "    print('Данные выгружены в файл telecomm_csi_tableau.csv')\n",
    "except:\n",
    "    print('Не удалось выгрузить данные')"
   ]
  },
  {
   "cell_type": "markdown",
   "id": "e500a1a8",
   "metadata": {},
   "source": [
    "**Ссылка на дашборд tableau**"
   ]
  },
  {
   "cell_type": "markdown",
   "id": "3a06af3e",
   "metadata": {},
   "source": [
    "https://public.tableau.com/app/profile/yury.gnezdilov/viz/telecomm_csi_tableau_16474468079970/3_PROMOTERS"
   ]
  },
  {
   "cell_type": "markdown",
   "id": "e162fb7a",
   "metadata": {},
   "source": [
    "**Ссылка на все файлы проекта**"
   ]
  },
  {
   "cell_type": "markdown",
   "id": "590caa95",
   "metadata": {},
   "source": [
    "https://github.com/ygnezdilov/telecomm_csi/"
   ]
  }
 ],
 "metadata": {
  "ExecuteTimeLog": [
   {
    "duration": 752,
    "start_time": "2021-10-03T17:40:52.731Z"
   },
   {
    "duration": 20,
    "start_time": "2021-10-03T17:40:53.486Z"
   },
   {
    "duration": 4,
    "start_time": "2021-10-03T17:41:04.638Z"
   },
   {
    "duration": 461,
    "start_time": "2021-10-03T17:41:04.912Z"
   },
   {
    "duration": 284,
    "start_time": "2021-10-03T17:41:05.376Z"
   },
   {
    "duration": 574,
    "start_time": "2021-10-06T07:55:05.029Z"
   },
   {
    "duration": 6,
    "start_time": "2021-10-06T07:55:05.605Z"
   },
   {
    "duration": 3,
    "start_time": "2021-10-06T07:55:14.685Z"
   },
   {
    "duration": 406,
    "start_time": "2021-10-06T07:55:15.522Z"
   },
   {
    "duration": 67,
    "start_time": "2021-10-06T07:55:15.929Z"
   },
   {
    "duration": 840,
    "start_time": "2021-10-07T07:54:04.647Z"
   },
   {
    "duration": 10,
    "start_time": "2021-10-07T07:54:05.490Z"
   },
   {
    "duration": 4,
    "start_time": "2021-10-07T07:54:05.544Z"
   },
   {
    "duration": 391,
    "start_time": "2021-10-07T07:54:06.237Z"
   },
   {
    "duration": 293,
    "start_time": "2021-10-07T07:54:06.654Z"
   },
   {
    "duration": 503,
    "start_time": "2022-03-21T03:40:14.469Z"
   },
   {
    "duration": 11086,
    "start_time": "2022-03-21T03:40:14.974Z"
   },
   {
    "duration": 34,
    "start_time": "2022-03-21T03:40:26.062Z"
   }
  ],
  "kernelspec": {
   "display_name": "Python 3 (ipykernel)",
   "language": "python",
   "name": "python3"
  },
  "language_info": {
   "codemirror_mode": {
    "name": "ipython",
    "version": 3
   },
   "file_extension": ".py",
   "mimetype": "text/x-python",
   "name": "python",
   "nbconvert_exporter": "python",
   "pygments_lexer": "ipython3",
   "version": "3.9.7"
  },
  "toc": {
   "base_numbering": 1,
   "nav_menu": {},
   "number_sections": true,
   "sideBar": true,
   "skip_h1_title": true,
   "title_cell": "Table of Contents",
   "title_sidebar": "Contents",
   "toc_cell": false,
   "toc_position": {},
   "toc_section_display": true,
   "toc_window_display": false
  }
 },
 "nbformat": 4,
 "nbformat_minor": 5
}
